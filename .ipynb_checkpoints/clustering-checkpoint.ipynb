{
 "cells": [
  {
   "cell_type": "code",
   "execution_count": 7,
   "metadata": {},
   "outputs": [],
   "source": [
    "import geopandas as gpd\n",
    "import pandas as pd\n",
    "import matplotlib.pyplot as plt\n",
    "import seaborn as sns\n",
    "from sklearn.cluster import KMeans\n",
    "from sklearn.grid_search import GridSearchCV\n",
    "from sklearn.neighbors import KernelDensity\n",
    "import numpy as np\n",
    "from numpy import array, linspace\n",
    "from scipy.signal import argrelextrema\n",
    "from sklearn.cross_validation import LeaveOneOut\n",
    "import jenkspy"
   ]
  },
  {
   "cell_type": "code",
   "execution_count": 8,
   "metadata": {},
   "outputs": [],
   "source": [
    "#Setting the filepath and loading in a shapefile\n",
    "file = \"./files/countries.shp\"\n",
    "map_df = gpd.read_file(file)\n",
    "\n",
    "#Loading the datasets & doing some data processing like column re-naming\n",
    "df = pd.read_csv('./files/index.csv')\n",
    "lang = pd.read_csv('./files/languages.csv', encoding = 'cp1252')\n",
    "lang.columns = ['lang_id', 'code', 'language_name', 'perc_of_people_spoken', 'official']\n",
    "countries = pd.read_csv('./files/countries.csv', encoding = 'cp1252')\n",
    "countries.columns = ['country_name', 'iso_2', 'code']\n",
    "df.columns = ['rank', 'code', 'country', 'ethnic_index', 'cultural_index']\n",
    "regions = pd.read_csv('./files/regions.csv')"
   ]
  },
  {
   "cell_type": "code",
   "execution_count": 9,
   "metadata": {},
   "outputs": [],
   "source": [
    "#Merging shp and file with the cultural index file to build a map based on the data\n",
    "#As every language is in a separate row, aggregating the languages, % of people spoken and the language status\n",
    "merged_index = map_df.set_index('ADM0_A3').join(df.set_index('code')).reset_index()\n",
    "lang['aggregated'] = lang.iloc[:,2]+' (' + lang.iloc[:,3].astype(str) + '; ' +lang.iloc[:,4] + ')'\n",
    "pvt = lang[['lang_id','code','aggregated']].pivot_table(index = 'code',columns = 'aggregated')\n",
    "final_aggreg = pd.DataFrame(pvt.apply(lambda x: x.dropna().reset_index()['aggregated'].tolist(), axis = 1)).reset_index()\n",
    "final_aggreg.columns = ['code', 'lang']\n",
    "merged_lang = merged_index.set_index('ADM0_A3').join(final_aggreg.set_index('code')).reset_index()"
   ]
  },
  {
   "cell_type": "code",
   "execution_count": 10,
   "metadata": {},
   "outputs": [
    {
     "data": {
      "image/png": "[encoded data removed]",
      "text/plain": [
       "<Figure size 432x288 with 1 Axes>"
      ]
     },
     "metadata": {},
     "output_type": "display_data"
    },
    {
     "data": {
      "text/html": [
       "<div>\n",
       "<style scoped>\n",
       "    .dataframe tbody tr th:only-of-type {\n",
       "        vertical-align: middle;\n",
       "    }\n",
       "\n",
       "    .dataframe tbody tr th {\n",
       "        vertical-align: top;\n",
       "    }\n",
       "\n",
       "    .dataframe thead th {\n",
       "        text-align: right;\n",
       "    }\n",
       "</style>\n",
       "<table border=\"1\" class=\"dataframe\">\n",
       "  <thead>\n",
       "    <tr style=\"text-align: right;\">\n",
       "      <th></th>\n",
       "      <th>cultural_index</th>\n",
       "    </tr>\n",
       "    <tr>\n",
       "      <th>class</th>\n",
       "      <th></th>\n",
       "    </tr>\n",
       "  </thead>\n",
       "  <tbody>\n",
       "    <tr>\n",
       "      <th>0</th>\n",
       "      <td>37</td>\n",
       "    </tr>\n",
       "    <tr>\n",
       "      <th>1</th>\n",
       "      <td>36</td>\n",
       "    </tr>\n",
       "    <tr>\n",
       "      <th>2</th>\n",
       "      <td>45</td>\n",
       "    </tr>\n",
       "    <tr>\n",
       "      <th>3</th>\n",
       "      <td>31</td>\n",
       "    </tr>\n",
       "  </tbody>\n",
       "</table>\n",
       "</div>"
      ],
      "text/plain": [
       "       cultural_index\n",
       "class                \n",
       "0                  37\n",
       "1                  36\n",
       "2                  45\n",
       "3                  31"
      ]
     },
     "execution_count": 10,
     "metadata": {},
     "output_type": "execute_result"
    }
   ],
   "source": [
    "#To identify natural breaks, we will used K-means clustering algorithm. K-means is a simple unsupervised machine learning algorithm that groups a dataset into a user-specified number (k) of clusters. Dropping NAs as the K-means 'doesnt tolerate' missing values.\n",
    "x = df[['cultural_index']].dropna()\n",
    "#Although it's recommended to have between 5 and 10 categories, but we will use the elbow method to identify the number of classes\n",
    "#The idea of the elbow method is to run k-means clustering on the dataset for a range of values of k (say, k from 1 to 10 in the examples above). The idea is to find the # of clusters where Within Cluster Sum of Squares is min. \n",
    "wcss = []\n",
    "for i in range(1, 10):\n",
    "    km = KMeans(n_clusters = i, random_state = 0)\n",
    "    km.fit(x)\n",
    "    wcss.append(km.inertia_)\n",
    "_ = plt.plot(range(1,10), wcss)\n",
    "_ = plt.title('Elbow Method')\n",
    "_ = plt.xlabel('Number of clusters')\n",
    "_ = plt.ylabel('wcss')\n",
    "plt.show()\n",
    "#Elbow at k=4 indicating 4 is the best number of clusters.\n",
    "#Fitting kmeans to the dataset with k=4\n",
    "km = KMeans(n_clusters = 4, random_state = 0)\n",
    "y_means = km.fit_predict(x)\n",
    "df_mean = pd.DataFrame(index = x.index, data = y_means).join(x)\n",
    "df_mean.columns = ['class', 'cultural_index']\n",
    "#Checking the # of observations in every class\n",
    "df_mean.groupby('class').count()"
   ]
  },
  {
   "cell_type": "code",
   "execution_count": 32,
   "metadata": {},
   "outputs": [
    {
     "name": "stdout",
     "output_type": "stream",
     "text": [
      "{'bandwidth': 0.03442567567567568}\n"
     ]
    },
    {
     "data": {
      "image/png": "[encoded data removed]",
      "text/plain": [
       "<Figure size 432x288 with 1 Axes>"
      ]
     },
     "metadata": {},
     "output_type": "display_data"
    },
    {
     "data": {
      "image/png": "[encoded data removed]",
      "text/plain": [
       "<Figure size 432x288 with 1 Axes>"
      ]
     },
     "metadata": {},
     "output_type": "display_data"
    }
   ],
   "source": [
    "#Alternatively, we will use kernel density estimation\n",
    "#Reshaping the data\n",
    "df_set = df[['cultural_index']].dropna()\n",
    "x = np.array(df_set.iloc[:,0].tolist())\n",
    "X = x.reshape(-1, 1)\n",
    "x_grid = np.linspace(0.01, x.max(), len(x))\n",
    "#Finding the optimal bandwidth\n",
    "grid = GridSearchCV(KernelDensity(),\n",
    "                    {'bandwidth': x_grid}, cv = 20)\n",
    "\n",
    "grid.fit(X)\n",
    "print(grid.best_params_)\n",
    "kde = grid.best_estimator_\n",
    "pdf = np.exp(kde.score_samples(x_grid[:, None]))\n",
    "#Ploting the density and histogram\n",
    "fig, ax = plt.subplots()\n",
    "_ = ax.plot(x_grid, pdf, linewidth = 3, alpha = 0.5)\n",
    "_ = ax.hist(x, fc = 'gray', histtype = 'stepfilled', alpha = 0.3, normed = True)\n",
    "_ = plt.xlabel('Cultural index')\n",
    "_ = plt.ylabel('Density')\n",
    "_ = plt.title('Density plot')\n",
    "mi, ma = argrelextrema(pdf, np.less)[0], argrelextrema(pdf, np.greater)[0]\n",
    "#print(\"Minima:\", x_grid[mi])\n",
    "#print(\"Maxima:\", x_grid[ma])\n",
    "#ar = x[x < x_grid[mi][0]], x[(x >= x_grid[mi][0]) * (x < x_grid[mi][1])], x[(x >= x_grid[mi][1]) * (x < x_grid[mi][2])], x[(x >= x_grid[mi][2]) * (x < x_grid[mi][3])],x[(x >= x_grid[mi][3]) * (x < x_grid[mi][4])], x[x >= x_grid[mi][5]]\n",
    "def cls_kern(X):\n",
    "    '''The function assigns lables depending on which interval a data point falls into'''\n",
    "    for x in X:\n",
    "        if x < x_grid[ma][0]: return '1'\n",
    "        elif (x >= x_grid[ma][0]) * (x < x_grid[ma][1]): return '2'\n",
    "        elif (x >= x_grid[ma][1]) * (x < x_grid[ma][2]): return '3'\n",
    "        else: return '4'\n",
    "df_set['class'] = df_set[['cultural_index']].apply(cls_kern, axis = 1)\n",
    "#Checking the # of observations in every class\n",
    "df_set.groupby('class').count()\n",
    "#Visualizing the breaks\n",
    "plt.figure()\n",
    "hist = plt.hist(x, bins = 12, histtype = 'stepfilled', fc = 'gray', alpha = 0.3)\n",
    "_ = plt.title('Visualizing intervals')\n",
    "_ = plt.xlabel('Cultural index')\n",
    "_ = plt.ylabel('Freq')\n",
    "for p in x_grid[ma]:\n",
    "    plt.vlines(p, ymin = 0, ymax = max(hist[0]))"
   ]
  },
  {
   "cell_type": "code",
   "execution_count": null,
   "metadata": {},
   "outputs": [],
   "source": [
    "#Implementing Jenks Natural Breaks. I have used the optimum # of classes identified with the Elbow method\n",
    "jnks = jenkspy.jenks_breaks(x, nb_class = 5)\n",
    "def cls_jenks(X):\n",
    "    '''The function assigns lables depending on which interval a data point falls into'''\n",
    "    for x in X:\n",
    "        if x < jnks[1]: return '1'\n",
    "        elif (x >= jnks[1]) * (x < jnks[2]): return '2'\n",
    "        elif (x >= jnks[2]) * (x < jnks[3]): return '3'\n",
    "        else: return '4'\n",
    "df_set['class'] = df_set[['cultural_index']].apply(cls_jenks, axis = 1)\n",
    "#Checking the # of observations in every class\n",
    "df_set.groupby('class').count()\n",
    "#Visualizing the intervals\n",
    "plt.figure()\n",
    "hist = plt.hist(x, bins = 12, histtype = 'stepfilled', fc = 'gray', alpha = 0.3)\n",
    "_ = plt.title('Visualizing intervals')\n",
    "_ = plt.xlabel('Cultural index')\n",
    "_ = plt.ylabel('Freq')\n",
    "for b in jnks[1:-1]:\n",
    "    plt.vlines(b, ymin = 0, ymax = max(hist[0]))"
   ]
  },
  {
   "cell_type": "code",
   "execution_count": null,
   "metadata": {},
   "outputs": [],
   "source": [
    "#A long method to implement the Jenks natural breaks algorithm\n",
    "def get_jenks_breaks(data_list, number_class):\n",
    "    data_list.sort()\n",
    "    mat1 = []\n",
    "    for i in range(len(data_list) + 1):\n",
    "        temp = []\n",
    "        for j in range(number_class + 1):\n",
    "            temp.append(0)\n",
    "        mat1.append(temp)\n",
    "    mat2 = []\n",
    "    for i in range(len(data_list) + 1):\n",
    "        temp = []\n",
    "        for j in range(number_class + 1):\n",
    "            temp.append(0)\n",
    "        mat2.append(temp)\n",
    "    for i in range(1, number_class + 1):\n",
    "        mat1[1][i] = 1\n",
    "        mat2[1][i] = 0\n",
    "        for j in range(2, len(data_list) + 1):\n",
    "            mat2[j][i] = float('inf')\n",
    "    v = 0.0\n",
    "    for l in range(2, len(data_list) + 1):\n",
    "        s1 = 0.0\n",
    "        s2 = 0.0\n",
    "        w = 0.0\n",
    "        for m in range(1, l + 1):\n",
    "            i3 = l - m + 1\n",
    "            val = float(data_list[i3 - 1])\n",
    "            s2 += val * val\n",
    "            s1 += val\n",
    "            w += 1\n",
    "            v = s2 - (s1 * s1) / w\n",
    "            i4 = i3 - 1\n",
    "            if i4 != 0:\n",
    "                for j in range(2, number_class + 1):\n",
    "                    if mat2[l][j] >= (v + mat2[i4][j - 1]):\n",
    "                        mat1[l][j] = i3\n",
    "                        mat2[l][j] = v + mat2[i4][j - 1]\n",
    "        mat1[l][1] = 1\n",
    "        mat2[l][1] = v\n",
    "    k = len(data_list)\n",
    "    kclass = []\n",
    "    for i in range(number_class + 1):\n",
    "        kclass.append(min(data_list))\n",
    "    kclass[number_class] = float(data_list[len(data_list) - 1])\n",
    "    count_num = number_class\n",
    "    while count_num >= 2:  # print \"rank = \" + str(mat1[k][count_num])\n",
    "        idx = int((mat1[k][count_num]) - 2)\n",
    "        # print \"val = \" + str(data_list[idx])\n",
    "        kclass[count_num - 1] = data_list[idx]\n",
    "        k = int((mat1[k][count_num] - 1))\n",
    "        count_num -= 1\n",
    "    return kclass\n",
    "\n",
    "breaks = get_jenks_breaks(X, 5)\n",
    "\n",
    "for line in breaks:\n",
    "    plt.plot([line for _ in range(len(x))], 'k--')\n",
    "plt.plot(x)\n",
    "plt.show()"
   ]
  },
  {
   "cell_type": "code",
   "execution_count": null,
   "metadata": {},
   "outputs": [],
   "source": [
    "#Finding intervals based on percentiles\n",
    "prcntl = np.percentile(x, [25,50,75])\n",
    "def cls_prcntl(X):\n",
    "    '''The function assigns lables depending on which interval a data point falls into'''\n",
    "    for x in X:\n",
    "        if x < prcntl[0]: return '1'\n",
    "        elif (x >= prcntl[0]) * (x < prcntl[1]): return '2'\n",
    "        else: return '3'\n",
    "df_set['class'] = df_set[['cultural_index']].apply(cls_prcntl, axis = 1)\n",
    "#Checking the # of observations in every class\n",
    "df_set.groupby('class').count()\n",
    "#Visualizing the intervals\n",
    "plt.figure()\n",
    "hist = plt.hist(x, bins = 12, histtype = 'stepfilled', fc = 'gray', alpha = 0.3)\n",
    "_ = plt.title('Visualizing intervals')\n",
    "_ = plt.xlabel('Cultural index')\n",
    "_ = plt.ylabel('Freq')\n",
    "for b in prcntl:\n",
    "    plt.vlines(b, ymin = 0, ymax = max(hist[0]))"
   ]
  },
  {
   "cell_type": "code",
   "execution_count": 44,
   "metadata": {},
   "outputs": [
    {
     "data": {
      "image/png": "[encoded data removed]",
      "text/plain": [
       "<Figure size 432x288 with 1 Axes>"
      ]
     },
     "metadata": {},
     "output_type": "display_data"
    }
   ],
   "source": [
    "#Finding intervals based on the nested means classification\n",
    "lst = []\n",
    "lst.append(x.mean())\n",
    "nested_mean(x, 4)\n",
    "def nested_mean(x, N):\n",
    "    '''The function calculates the nested means'''\n",
    "    if N == 4:    \n",
    "        second_order_min = lst.append(x[x < x.mean()].mean())\n",
    "        second_order_max = lst.append(x[x > x.mean()].mean())\n",
    "    elif N == 6:\n",
    "        second_order_min = lst.append(x[x < x.mean()].mean())\n",
    "        second_order_max = lst.append(x[x > x.mean()].mean())        \n",
    "        third_order_min = lst.append(x[x < (x[x < x.mean()].mean())].mean())\n",
    "        third_order_max = lst.append(x[x > (x[x > x.mean()].mean())].mean())        \n",
    "    lst.sort()\n",
    "def cls_nested(X):\n",
    "    '''The function assigns lables depending on which interval a data point falls into'''\n",
    "    for x in X:\n",
    "        if x < lst[0]: return '1'\n",
    "        elif (x >= lst[0]) * (x < lst[1]): return '2'\n",
    "        elif (x >= lst[1]) * (x < lst[2]): return '3'\n",
    "        else: return '4'\n",
    "df_set['class'] = df_set[['cultural_index']].apply(cls_nested, axis = 1)\n",
    "#Checking the # of observations in every class\n",
    "df_set.groupby('class').count()\n",
    "#Visualizing the breaks\n",
    "plt.figure()\n",
    "hist = plt.hist(x, bins = 12, histtype = 'stepfilled', fc = 'gray', alpha = 0.3)\n",
    "_ = plt.title('Visualizing intervals')\n",
    "_ = plt.xlabel('Cultural index')\n",
    "_ = plt.ylabel('Freq')\n",
    "for p in lst:\n",
    "    plt.vlines(p, ymin = 0, ymax = max(hist[0]))"
   ]
  }
 ],
 "metadata": {
  "kernelspec": {
   "display_name": "python3.5",
   "language": "python",
   "name": "python3.5"
  },
  "language_info": {
   "codemirror_mode": {
    "name": "ipython",
    "version": 2
   },
   "file_extension": ".py",
   "mimetype": "text/x-python",
   "name": "python",
   "nbconvert_exporter": "python",
   "pygments_lexer": "ipython2",
   "version": "2.7.15"
  }
 },
 "nbformat": 4,
 "nbformat_minor": 2
}
