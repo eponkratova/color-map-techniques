{
 "cells": [
  {
   "cell_type": "code",
   "execution_count": 1,
   "metadata": {},
   "outputs": [],
   "source": [
    "import geopandas as gpd\n",
    "import pandas as pd\n",
    "import matplotlib.pyplot as plt\n",
    "import seaborn as sns\n",
    "from sklearn.cluster import KMeans"
   ]
  },
  {
   "cell_type": "code",
   "execution_count": 2,
   "metadata": {},
   "outputs": [],
   "source": [
    "#Setting the filepath and loading in a shapefile\n",
    "file = \"./files/countries.shp\"\n",
    "map_df = gpd.read_file(file)\n",
    "\n",
    "#Loading the datasets & doing some data processing like column re-naming\n",
    "df = pd.read_csv('./files/index.csv')\n",
    "lang = pd.read_csv('./files/languages.csv', encoding = 'cp1252')\n",
    "lang.columns = ['lang_id', 'code', 'language_name', 'perc_of_people_spoken', 'official']\n",
    "countries = pd.read_csv('./files/countries.csv', encoding = 'cp1252')\n",
    "countries.columns = ['country_name', 'iso_2', 'code']\n",
    "df.columns = ['rank', 'code', 'country', 'ethnic_index', 'cultural_index']\n",
    "regions = pd.read_csv('./files/regions.csv')"
   ]
  },
  {
   "cell_type": "code",
   "execution_count": 3,
   "metadata": {},
   "outputs": [],
   "source": [
    "#Merging shp and file with the cultural index file to build a map based on the data\n",
    "#As every language is in a separate row, aggregating the languages, % of people spoken and the language status\n",
    "merged_index = map_df.set_index('ADM0_A3').join(df.set_index('code')).reset_index()\n",
    "lang['aggregated'] = lang.iloc[:,2]+' (' + lang.iloc[:,3].astype(str) + '; ' +lang.iloc[:,4] + ')'\n",
    "pvt = lang[['lang_id','code','aggregated']].pivot_table(index = 'code',columns = 'aggregated')\n",
    "final_aggreg = pd.DataFrame(pvt.apply(lambda x: x.dropna().reset_index()['aggregated'].tolist(), axis = 1)).reset_index()\n",
    "final_aggreg.columns = ['code', 'lang']\n",
    "merged_lang = merged_index.set_index('ADM0_A3').join(final_aggreg.set_index('code')).reset_index()"
   ]
  },
  {
   "cell_type": "code",
   "execution_count": 5,
   "metadata": {},
   "outputs": [
    {
     "data": {
      "image/png": "[encoded data removed]",
      "text/plain": [
       "<Figure size 432x288 with 1 Axes>"
      ]
     },
     "metadata": {},
     "output_type": "display_data"
    }
   ],
   "source": [
    "#To identify natural breaks, we will used K-means clustering algorithm. K-means is a simple unsupervised machine learning algorithm that groups a dataset into a user-specified number (k) of clusters. Dropping NAs as the K-means 'doesnt tolerate' missing values.\n",
    "x = df[['cultural_index']].dropna()\n",
    "#Although it's recommended to have between 5 and 10 categories, but we will use the elbow method to identify the number of classes\n",
    "#The idea of the elbow method is to run k-means clustering on the dataset for a range of values of k (say, k from 1 to 10 in the examples above). The idea is to find the # of clusters where Within Cluster Sum of Squares is min. \n",
    "wcss = []\n",
    "for i in range(1, 10):\n",
    "    km = KMeans(n_clusters = i, random_state = 0)\n",
    "    km.fit(x)\n",
    "    wcss.append(km.inertia_)\n",
    "plt.plot(range(1,10), sse)\n",
    "plt.title('Elbow Method')\n",
    "plt.xlabel('Number of clusters')\n",
    "plt.ylabel('wcss')\n",
    "plt.show()\n",
    "#Elbow at k=4 indicating 4 is the best number of clusters."
   ]
  },
  {
   "cell_type": "code",
   "execution_count": 10,
   "metadata": {},
   "outputs": [
    {
     "data": {
      "text/html": [
       "<div>\n",
       "<style scoped>\n",
       "    .dataframe tbody tr th:only-of-type {\n",
       "        vertical-align: middle;\n",
       "    }\n",
       "\n",
       "    .dataframe tbody tr th {\n",
       "        vertical-align: top;\n",
       "    }\n",
       "\n",
       "    .dataframe thead th {\n",
       "        text-align: right;\n",
       "    }\n",
       "</style>\n",
       "<table border=\"1\" class=\"dataframe\">\n",
       "  <thead>\n",
       "    <tr style=\"text-align: right;\">\n",
       "      <th></th>\n",
       "      <th>cultural_index</th>\n",
       "    </tr>\n",
       "    <tr>\n",
       "      <th>0</th>\n",
       "      <th></th>\n",
       "    </tr>\n",
       "  </thead>\n",
       "  <tbody>\n",
       "    <tr>\n",
       "      <th>0</th>\n",
       "      <td>37</td>\n",
       "    </tr>\n",
       "    <tr>\n",
       "      <th>1</th>\n",
       "      <td>36</td>\n",
       "    </tr>\n",
       "    <tr>\n",
       "      <th>2</th>\n",
       "      <td>45</td>\n",
       "    </tr>\n",
       "    <tr>\n",
       "      <th>3</th>\n",
       "      <td>31</td>\n",
       "    </tr>\n",
       "  </tbody>\n",
       "</table>\n",
       "</div>"
      ],
      "text/plain": [
       "   cultural_index\n",
       "0                \n",
       "0              37\n",
       "1              36\n",
       "2              45\n",
       "3              31"
      ]
     },
     "execution_count": 10,
     "metadata": {},
     "output_type": "execute_result"
    }
   ],
   "source": [
    "#Fitting kmeans to the dataset with k=4\n",
    "km = KMeans(n_clusters = 4, random_state = 0)\n",
    "y_means = km.fit_predict(x); y_means\n",
    "#Checking the # of observations in every class\n",
    "pd.DataFrame(index = x.index, data = y_means).join(x).groupby(0).count()"
   ]
  },
  {
   "cell_type": "code",
   "execution_count": null,
   "metadata": {},
   "outputs": [],
   "source": []
  }
 ],
 "metadata": {
  "kernelspec": {
   "display_name": "python3.5",
   "language": "python",
   "name": "python3.5"
  },
  "language_info": {
   "codemirror_mode": {
    "name": "ipython",
    "version": 2
   },
   "file_extension": ".py",
   "mimetype": "text/x-python",
   "name": "python",
   "nbconvert_exporter": "python",
   "pygments_lexer": "ipython2",
   "version": "2.7.15"
  }
 },
 "nbformat": 4,
 "nbformat_minor": 2
}
